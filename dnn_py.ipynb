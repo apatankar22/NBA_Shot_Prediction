{
 "cells": [
  {
   "cell_type": "code",
   "execution_count": 1,
   "id": "9e703a71-7b30-4906-b19c-72878284f6b0",
   "metadata": {},
   "outputs": [],
   "source": [
    "#!conda install -c conda-forge keras --yes\n",
    "#!conda install -c conda-forge tensorflow --yes"
   ]
  },
  {
   "cell_type": "code",
   "execution_count": 9,
   "id": "426d1694-9c23-4c16-9603-3ecc8760d888",
   "metadata": {},
   "outputs": [
    {
     "name": "stdout",
     "output_type": "stream",
     "text": [
      "Requirement already satisfied: keras in /Users/amoghvp/miniforge3/envs/deep_learning/lib/python3.8/site-packages (2.7.0)\n",
      "Requirement already satisfied: tensorflow in /Users/amoghvp/miniforge3/envs/deep_learning/lib/python3.8/site-packages (2.6.0)\n",
      "Requirement already satisfied: gast==0.4.0 in /Users/amoghvp/miniforge3/envs/deep_learning/lib/python3.8/site-packages (from tensorflow) (0.4.0)\n",
      "Requirement already satisfied: h5py~=3.1.0 in /Users/amoghvp/miniforge3/envs/deep_learning/lib/python3.8/site-packages (from tensorflow) (3.1.0)\n",
      "Requirement already satisfied: six~=1.15.0 in /Users/amoghvp/miniforge3/envs/deep_learning/lib/python3.8/site-packages (from tensorflow) (1.15.0)\n",
      "Requirement already satisfied: keras~=2.6 in /Users/amoghvp/miniforge3/envs/deep_learning/lib/python3.8/site-packages (from tensorflow) (2.7.0)\n",
      "Requirement already satisfied: opt-einsum~=3.3.0 in /Users/amoghvp/miniforge3/envs/deep_learning/lib/python3.8/site-packages (from tensorflow) (3.3.0)\n",
      "Requirement already satisfied: termcolor~=1.1.0 in /Users/amoghvp/miniforge3/envs/deep_learning/lib/python3.8/site-packages (from tensorflow) (1.1.0)\n",
      "Requirement already satisfied: tensorflow-estimator~=2.6 in /Users/amoghvp/miniforge3/envs/deep_learning/lib/python3.8/site-packages (from tensorflow) (2.6.0)\n",
      "Requirement already satisfied: flatbuffers~=1.12.0 in /Users/amoghvp/miniforge3/envs/deep_learning/lib/python3.8/site-packages (from tensorflow) (1.12)\n",
      "Requirement already satisfied: keras-preprocessing~=1.1.2 in /Users/amoghvp/miniforge3/envs/deep_learning/lib/python3.8/site-packages (from tensorflow) (1.1.2)\n",
      "Requirement already satisfied: wheel~=0.35 in /Users/amoghvp/miniforge3/envs/deep_learning/lib/python3.8/site-packages (from tensorflow) (0.37.0)\n",
      "Requirement already satisfied: protobuf>=3.9.2 in /Users/amoghvp/miniforge3/envs/deep_learning/lib/python3.8/site-packages (from tensorflow) (3.16.0)\n",
      "Requirement already satisfied: absl-py~=0.10 in /Users/amoghvp/miniforge3/envs/deep_learning/lib/python3.8/site-packages (from tensorflow) (0.13.0)\n",
      "Requirement already satisfied: typing-extensions~=3.7.4 in /Users/amoghvp/miniforge3/envs/deep_learning/lib/python3.8/site-packages (from tensorflow) (3.7.4.3)\n",
      "Requirement already satisfied: wrapt~=1.12.1 in /Users/amoghvp/miniforge3/envs/deep_learning/lib/python3.8/site-packages (from tensorflow) (1.12.1)\n",
      "Requirement already satisfied: grpcio<2.0,>=1.39 in /Users/amoghvp/miniforge3/envs/deep_learning/lib/python3.8/site-packages (from tensorflow) (1.39.0)\n",
      "Requirement already satisfied: astunparse~=1.6.3 in /Users/amoghvp/miniforge3/envs/deep_learning/lib/python3.8/site-packages (from tensorflow) (1.6.3)\n",
      "Requirement already satisfied: google-pasta~=0.2 in /Users/amoghvp/miniforge3/envs/deep_learning/lib/python3.8/site-packages (from tensorflow) (0.2.0)\n",
      "Requirement already satisfied: numpy~=1.19.2 in /Users/amoghvp/miniforge3/envs/deep_learning/lib/python3.8/site-packages (from tensorflow) (1.19.5)\n",
      "Requirement already satisfied: tensorboard~=2.6 in /Users/amoghvp/miniforge3/envs/deep_learning/lib/python3.8/site-packages (from tensorflow) (2.7.0)\n",
      "Requirement already satisfied: markdown>=2.6.8 in /Users/amoghvp/miniforge3/envs/deep_learning/lib/python3.8/site-packages (from tensorboard~=2.6->tensorflow) (3.3.4)\n",
      "Requirement already satisfied: tensorboard-data-server<0.7.0,>=0.6.0 in /Users/amoghvp/miniforge3/envs/deep_learning/lib/python3.8/site-packages (from tensorboard~=2.6->tensorflow) (0.6.0)\n",
      "Requirement already satisfied: google-auth-oauthlib<0.5,>=0.4.1 in /Users/amoghvp/miniforge3/envs/deep_learning/lib/python3.8/site-packages (from tensorboard~=2.6->tensorflow) (0.4.6)\n",
      "Requirement already satisfied: tensorboard-plugin-wit>=1.6.0 in /Users/amoghvp/miniforge3/envs/deep_learning/lib/python3.8/site-packages (from tensorboard~=2.6->tensorflow) (1.8.0)\n",
      "Requirement already satisfied: setuptools>=41.0.0 in /Users/amoghvp/miniforge3/envs/deep_learning/lib/python3.8/site-packages (from tensorboard~=2.6->tensorflow) (58.0.4)\n",
      "Requirement already satisfied: werkzeug>=0.11.15 in /Users/amoghvp/miniforge3/envs/deep_learning/lib/python3.8/site-packages (from tensorboard~=2.6->tensorflow) (2.0.1)\n",
      "Requirement already satisfied: google-auth<3,>=1.6.3 in /Users/amoghvp/miniforge3/envs/deep_learning/lib/python3.8/site-packages (from tensorboard~=2.6->tensorflow) (1.35.0)\n",
      "Requirement already satisfied: requests<3,>=2.21.0 in /Users/amoghvp/miniforge3/envs/deep_learning/lib/python3.8/site-packages (from tensorboard~=2.6->tensorflow) (2.26.0)\n",
      "Requirement already satisfied: requests-oauthlib>=0.7.0 in /Users/amoghvp/miniforge3/envs/deep_learning/lib/python3.8/site-packages (from google-auth-oauthlib<0.5,>=0.4.1->tensorboard~=2.6->tensorflow) (1.3.0)\n",
      "Requirement already satisfied: pyasn1-modules>=0.2.1 in /Users/amoghvp/miniforge3/envs/deep_learning/lib/python3.8/site-packages (from google-auth<3,>=1.6.3->tensorboard~=2.6->tensorflow) (0.2.7)\n",
      "Requirement already satisfied: rsa<5,>=3.1.4; python_version >= \"3.6\" in /Users/amoghvp/miniforge3/envs/deep_learning/lib/python3.8/site-packages (from google-auth<3,>=1.6.3->tensorboard~=2.6->tensorflow) (4.7.2)\n",
      "Requirement already satisfied: cachetools<5.0,>=2.0.0 in /Users/amoghvp/miniforge3/envs/deep_learning/lib/python3.8/site-packages (from google-auth<3,>=1.6.3->tensorboard~=2.6->tensorflow) (4.2.2)\n",
      "Requirement already satisfied: certifi>=2017.4.17 in /Users/amoghvp/miniforge3/envs/deep_learning/lib/python3.8/site-packages (from requests<3,>=2.21.0->tensorboard~=2.6->tensorflow) (2021.5.30)\n",
      "Requirement already satisfied: idna<4,>=2.5; python_version >= \"3\" in /Users/amoghvp/miniforge3/envs/deep_learning/lib/python3.8/site-packages (from requests<3,>=2.21.0->tensorboard~=2.6->tensorflow) (3.1)\n",
      "Requirement already satisfied: urllib3<1.27,>=1.21.1 in /Users/amoghvp/miniforge3/envs/deep_learning/lib/python3.8/site-packages (from requests<3,>=2.21.0->tensorboard~=2.6->tensorflow) (1.26.6)\n",
      "Requirement already satisfied: charset-normalizer~=2.0.0; python_version >= \"3\" in /Users/amoghvp/miniforge3/envs/deep_learning/lib/python3.8/site-packages (from requests<3,>=2.21.0->tensorboard~=2.6->tensorflow) (2.0.0)\n",
      "Requirement already satisfied: oauthlib>=3.0.0 in /Users/amoghvp/miniforge3/envs/deep_learning/lib/python3.8/site-packages (from requests-oauthlib>=0.7.0->google-auth-oauthlib<0.5,>=0.4.1->tensorboard~=2.6->tensorflow) (3.1.1)\n",
      "Requirement already satisfied: pyasn1<0.5.0,>=0.4.6 in /Users/amoghvp/miniforge3/envs/deep_learning/lib/python3.8/site-packages (from pyasn1-modules>=0.2.1->google-auth<3,>=1.6.3->tensorboard~=2.6->tensorflow) (0.4.8)\n"
     ]
    }
   ],
   "source": [
    "!pip install keras\n",
    "!pip install tensorflow"
   ]
  },
  {
   "cell_type": "code",
   "execution_count": 10,
   "id": "dd3f9b8e-323e-459f-b256-1e723a00e044",
   "metadata": {
    "id": "dd3f9b8e-323e-459f-b256-1e723a00e044"
   },
   "outputs": [
    {
     "ename": "ModuleNotFoundError",
     "evalue": "No module named 'tensorflow'",
     "output_type": "error",
     "traceback": [
      "\u001b[0;31m---------------------------------------------------------------------------\u001b[0m",
      "\u001b[0;31mModuleNotFoundError\u001b[0m                       Traceback (most recent call last)",
      "\u001b[0;32m/var/folders/s1/y8hjc_rd18g3zw5xh5l4_y8r0000gn/T/ipykernel_9515/3543140615.py\u001b[0m in \u001b[0;36m<module>\u001b[0;34m\u001b[0m\n\u001b[1;32m      4\u001b[0m \u001b[0;32mimport\u001b[0m \u001b[0mmath\u001b[0m\u001b[0;34m\u001b[0m\u001b[0;34m\u001b[0m\u001b[0m\n\u001b[1;32m      5\u001b[0m \u001b[0;32mimport\u001b[0m \u001b[0mmatplotlib\u001b[0m\u001b[0;34m.\u001b[0m\u001b[0mpyplot\u001b[0m \u001b[0;32mas\u001b[0m \u001b[0mplt\u001b[0m\u001b[0;34m\u001b[0m\u001b[0;34m\u001b[0m\u001b[0m\n\u001b[0;32m----> 6\u001b[0;31m \u001b[0;32mimport\u001b[0m \u001b[0mtensorflow\u001b[0m \u001b[0;32mas\u001b[0m \u001b[0mtf\u001b[0m\u001b[0;34m\u001b[0m\u001b[0;34m\u001b[0m\u001b[0m\n\u001b[0m\u001b[1;32m      7\u001b[0m \u001b[0;32mfrom\u001b[0m \u001b[0mtensorflow\u001b[0m \u001b[0;32mimport\u001b[0m \u001b[0mkeras\u001b[0m\u001b[0;34m\u001b[0m\u001b[0;34m\u001b[0m\u001b[0m\n\u001b[1;32m      8\u001b[0m \u001b[0;32mfrom\u001b[0m \u001b[0mnumpy\u001b[0m \u001b[0;32mimport\u001b[0m \u001b[0mloadtxt\u001b[0m\u001b[0;34m\u001b[0m\u001b[0;34m\u001b[0m\u001b[0m\n",
      "\u001b[0;31mModuleNotFoundError\u001b[0m: No module named 'tensorflow'"
     ]
    }
   ],
   "source": [
    "import pandas as pd\n",
    "import numpy as np\n",
    "from sklearn.model_selection import train_test_split\n",
    "import math\n",
    "import matplotlib.pyplot as plt\n",
    "import tensorflow as tf\n",
    "from tensorflow import keras\n",
    "from numpy import loadtxt\n",
    "from keras.models import Sequential\n",
    "from keras.layers import Dense\n",
    "from sklearn.datasets import make_classification\n",
    "from tensorflow.keras import Sequential\n",
    "from tensorflow.keras.layers import Dense\n",
    "from tensorflow.keras.optimizers import SGD"
   ]
  },
  {
   "cell_type": "code",
   "execution_count": null,
   "id": "nUGQMDNgIpW1",
   "metadata": {
    "colab": {
     "base_uri": "https://localhost:8080/"
    },
    "id": "nUGQMDNgIpW1",
    "outputId": "57cfae21-df58-455e-b827-27314aba57ae"
   },
   "outputs": [],
   "source": [
    "from google.colab import drive \n",
    "drive.mount('/content/gdrive')"
   ]
  },
  {
   "cell_type": "code",
   "execution_count": null,
   "id": "767342ee-e423-4cc9-a58c-a7a0eaef80d7",
   "metadata": {
    "id": "767342ee-e423-4cc9-a58c-a7a0eaef80d7"
   },
   "outputs": [],
   "source": [
    "#train_set = pd.read_csv(\"gdrive/My Drive/Colab Notebooks/Shot_Prediction/train.csv\")\n",
    "#valid_set = pd.read_csv(\"gdrive/My Drive/Colab Notebooks/Shot_Prediction/valid.csv\")\n",
    "#test_set = pd.read_csv(\"gdrive/My Drive/Colab Notebooks/Shot_Prediction/test.csv\")\n",
    "\n",
    "train_set = pd.read_csv(\"train.csv\")\n",
    "valid_set = pd.read_csv(\"valid.csv\")\n",
    "test_set = pd.read_csv(\"test.csv\")"
   ]
  },
  {
   "cell_type": "code",
   "execution_count": null,
   "id": "huNIBieOJMhs",
   "metadata": {
    "id": "huNIBieOJMhs"
   },
   "outputs": [],
   "source": [
    "x_train = np.array(train_set[\"SHOT_DIST\"])\n",
    "y_train = np.array(train_set[\"SHOT_RESULT\"])\n",
    "x_valid = np.array(valid_set[\"SHOT_DIST\"])\n",
    "y_valid = np.array(valid_set[\"SHOT_RESULT\"])\n",
    "x_test = np.array(test_set[\"SHOT_DIST\"])\n",
    "y_test = np.array(test_set[\"SHOT_RESULT\"])\n",
    "train_size = train_set.shape[0]"
   ]
  },
  {
   "cell_type": "code",
   "execution_count": null,
   "id": "0iX2XS6KK7lD",
   "metadata": {
    "colab": {
     "base_uri": "https://localhost:8080/"
    },
    "id": "0iX2XS6KK7lD",
    "outputId": "3d71332e-2539-4679-e1ce-5acc6b0d0986"
   },
   "outputs": [],
   "source": [
    "x_train.reshape((x_train.shape[0], 1))\n",
    "y_train.reshape((y_train.shape[0], 1))\n",
    "x_valid.reshape((x_valid.shape[0], 1))\n",
    "y_valid.reshape((y_valid.shape[0], 1))\n",
    "x_test.reshape((x_test.shape[0], 1))\n",
    "y_test.reshape((y_test.shape[0], 1))\n",
    "print()\n",
    "#size is 774 for x_train"
   ]
  },
  {
   "cell_type": "code",
   "execution_count": null,
   "id": "f4fadf5f-70eb-4378-b4f6-3f098d790249",
   "metadata": {
    "id": "f4fadf5f-70eb-4378-b4f6-3f098d790249"
   },
   "outputs": [],
   "source": [
    "model = Sequential()\n",
    "model.add(Dense(12, input_dim = 1, activation='relu'))\n",
    "model.add(Dense(8, activation='relu'))\n",
    "model.add(Dense(1, activation='sigmoid'))\n",
    "model.compile(loss='binary_crossentropy', optimizer='adam', metrics='accuracy')"
   ]
  },
  {
   "cell_type": "code",
   "execution_count": null,
   "id": "L3IE6MusJcjp",
   "metadata": {
    "colab": {
     "base_uri": "https://localhost:8080/"
    },
    "id": "L3IE6MusJcjp",
    "outputId": "51a7a50c-6f19-4881-9c57-fb1ccbb83c46"
   },
   "outputs": [],
   "source": [
    "model.fit(x_train, y_train, epochs = 150, batch_size = 10)\n",
    "_, accuracy = model.evaluate(x_train, y_train)\n",
    "print(\"\\n Training Accuracy: %.2f\" % (accuracy * 100))"
   ]
  },
  {
   "cell_type": "code",
   "execution_count": null,
   "id": "QSbaRKnXQWgW",
   "metadata": {
    "colab": {
     "base_uri": "https://localhost:8080/"
    },
    "id": "QSbaRKnXQWgW",
    "outputId": "ea98631b-996a-4386-b131-0f3ab098ec5e"
   },
   "outputs": [],
   "source": [
    "model.fit(x_valid, y_valid, epochs = 150, batch_size = 10)\n",
    "_, accuracy = model.evaluate(x_valid, y_valid)\n",
    "print(\"\\n Validation Accuracy: %.2f\" % (accuracy * 100))"
   ]
  },
  {
   "cell_type": "code",
   "execution_count": null,
   "id": "rSvbcl18QUde",
   "metadata": {
    "colab": {
     "base_uri": "https://localhost:8080/"
    },
    "id": "rSvbcl18QUde",
    "outputId": "ca6d62e9-61db-44bc-8baf-159f9bf8cf1c"
   },
   "outputs": [],
   "source": [
    "model.fit(x_test, y_test, epochs = 150, batch_size = 10)\n",
    "_, accuracy = model.evaluate(x_test, y_test)\n",
    "print(\"\\n Testing Accuracy: %.2f\" % (accuracy * 100))"
   ]
  }
 ],
 "metadata": {
  "colab": {
   "collapsed_sections": [],
   "name": "dnn.py",
   "provenance": []
  },
  "kernelspec": {
   "display_name": "Python 3 (ipykernel)",
   "language": "python",
   "name": "python3"
  },
  "language_info": {
   "codemirror_mode": {
    "name": "ipython",
    "version": 3
   },
   "file_extension": ".py",
   "mimetype": "text/x-python",
   "name": "python",
   "nbconvert_exporter": "python",
   "pygments_lexer": "ipython3",
   "version": "3.9.7"
  }
 },
 "nbformat": 4,
 "nbformat_minor": 5
}
